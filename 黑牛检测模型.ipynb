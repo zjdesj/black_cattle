{
  "nbformat": 4,
  "nbformat_minor": 0,
  "metadata": {
    "colab": {
      "name": "黑牛检测模型.ipynb",
      "provenance": [],
      "authorship_tag": "ABX9TyNJRZKJ9VSvufFe0qwsfZ68",
      "include_colab_link": true
    },
    "kernelspec": {
      "name": "python3",
      "display_name": "Python 3"
    },
    "language_info": {
      "name": "python"
    }
  },
  "cells": [
    {
      "cell_type": "markdown",
      "metadata": {
        "id": "view-in-github",
        "colab_type": "text"
      },
      "source": [
        "<a href=\"https://colab.research.google.com/github/zjdesj/black_cattle/blob/master/%E9%BB%91%E7%89%9B%E6%A3%80%E6%B5%8B%E6%A8%A1%E5%9E%8B.ipynb\" target=\"_parent\"><img src=\"https://colab.research.google.com/assets/colab-badge.svg\" alt=\"Open In Colab\"/></a>"
      ]
    },
    {
      "cell_type": "markdown",
      "source": [
        "# 数据源\n",
        "视频  | 时长(s) | 采样频率(HZ) | 图片数量 | 标签个数\n",
        "----------|---------|---------|---------|---------\n",
        "19  | 169 | 1  | 170 | 1662\n",
        "22  |  92 | 1  | 93 | 590\n",
        "25 | 15| 1| 15| 142\n",
        "40 | 376| 0.1| 39 | 876\n",
        "43 | 30 | 1 |3(人工选择) | 75\n",
        "\n",
        "##标签统计命令\n",
        "> find ./ -name \"*.txt\" |xargs cat|grep -v ^$|wc -l\n",
        "## 总数\n",
        ">标签: 3345 \n",
        ">图片: 320\n",
        "\n",
        "#数据集划分\n",
        "> 比例: train: valid: test = 6: 4: 4\n",
        "\n",
        "> 数量: train: valid: test = 192 : 64: 64\n",
        "\n",
        "# 模型\n",
        "> yolov5m\n"
      ],
      "metadata": {
        "id": "-7YU7t_ApDTq"
      }
    },
    {
      "cell_type": "markdown",
      "source": [
        ""
      ],
      "metadata": {
        "id": "pgcdV7on2AVu"
      }
    }
  ]
}